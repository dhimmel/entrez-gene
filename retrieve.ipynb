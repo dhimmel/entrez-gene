{
 "cells": [
  {
   "cell_type": "code",
   "execution_count": 2,
   "metadata": {
    "collapsed": false
   },
   "outputs": [
    {
     "name": "stdout",
     "output_type": "stream",
     "text": [
      "--2015-04-20 10:19:46--  ftp://ftp.ncbi.nih.gov/gene/DATA/GENE_INFO/Mammalia/Homo_sapiens.gene_info.gz\n",
      "           => ‘download/.listing’\n",
      "Resolving ftp.ncbi.nih.gov (ftp.ncbi.nih.gov)... 130.14.250.11, 2607:f220:41e:250::11\n",
      "Connecting to ftp.ncbi.nih.gov (ftp.ncbi.nih.gov)|130.14.250.11|:21... connected.\n",
      "Logging in as anonymous ... Logged in!\n",
      "==> SYST ... done.    ==> PWD ... done.\n",
      "==> TYPE I ... done.  ==> CWD (1) /gene/DATA/GENE_INFO/Mammalia ... done.\n",
      "==> PASV ... done.    ==> LIST ... done.\n",
      "\n",
      "    [ <=>                                   ] 672         --.-K/s   in 0s      \n",
      "\n",
      "2015-04-20 10:19:47 (3.19 MB/s) - ‘download/.listing’ saved [672]\n",
      "\n",
      "Removed ‘download/.listing’.\n",
      "Remote file no newer than local file ‘download/Homo_sapiens.gene_info.gz’ -- not retrieving.\n"
     ]
    }
   ],
   "source": [
    "! wget --timestamping --directory-prefix download/ ftp://ftp.ncbi.nih.gov/gene/DATA/GENE_INFO/Mammalia/Homo_sapiens.gene_info.gz"
   ]
  },
  {
   "cell_type": "code",
   "execution_count": 4,
   "metadata": {
    "collapsed": true
   },
   "outputs": [],
   "source": [
    "import os\n",
    "import csv\n",
    "import pandas"
   ]
  },
  {
   "cell_type": "code",
   "execution_count": 12,
   "metadata": {
    "collapsed": false
   },
   "outputs": [
    {
     "data": {
      "text/html": [
       "<div style=\"max-height:1000px;max-width:1500px;overflow:auto;\">\n",
       "<table border=\"1\" class=\"dataframe\">\n",
       "  <thead>\n",
       "    <tr style=\"text-align: right;\">\n",
       "      <th></th>\n",
       "      <th>tax_id</th>\n",
       "      <th>GeneID</th>\n",
       "      <th>Symbol</th>\n",
       "      <th>LocusTag</th>\n",
       "      <th>Synonyms</th>\n",
       "      <th>dbXrefs</th>\n",
       "      <th>chromosome</th>\n",
       "      <th>map_location</th>\n",
       "      <th>description</th>\n",
       "      <th>type_of_gene</th>\n",
       "      <th>Symbol_from_nomenclature_authority</th>\n",
       "      <th>Full_name_from_nomenclature_authority</th>\n",
       "      <th>Nomenclature_status</th>\n",
       "      <th>Other_designations</th>\n",
       "      <th>Modification_date</th>\n",
       "    </tr>\n",
       "  </thead>\n",
       "  <tbody>\n",
       "    <tr>\n",
       "      <th>0</th>\n",
       "      <td>9606</td>\n",
       "      <td>1</td>\n",
       "      <td>A1BG</td>\n",
       "      <td>-</td>\n",
       "      <td>A1B|ABG|GAB|HYST2477</td>\n",
       "      <td>MIM:138670|HGNC:HGNC:5|Ensembl:ENSG00000121410...</td>\n",
       "      <td>19</td>\n",
       "      <td>19q13.4</td>\n",
       "      <td>alpha-1-B glycoprotein</td>\n",
       "      <td>protein-coding</td>\n",
       "      <td>A1BG</td>\n",
       "      <td>alpha-1-B glycoprotein</td>\n",
       "      <td>O</td>\n",
       "      <td>HEL-S-163pA|alpha-1B-glycoprotein|epididymis s...</td>\n",
       "      <td>20150405</td>\n",
       "    </tr>\n",
       "    <tr>\n",
       "      <th>1</th>\n",
       "      <td>9606</td>\n",
       "      <td>2</td>\n",
       "      <td>A2M</td>\n",
       "      <td>-</td>\n",
       "      <td>A2MD|CPAMD5|FWP007|S863-7</td>\n",
       "      <td>MIM:103950|HGNC:HGNC:7|Ensembl:ENSG00000175899...</td>\n",
       "      <td>12</td>\n",
       "      <td>12p13.31</td>\n",
       "      <td>alpha-2-macroglobulin</td>\n",
       "      <td>protein-coding</td>\n",
       "      <td>A2M</td>\n",
       "      <td>alpha-2-macroglobulin</td>\n",
       "      <td>O</td>\n",
       "      <td>C3 and PZP-like alpha-2-macroglobulin domain-c...</td>\n",
       "      <td>20150412</td>\n",
       "    </tr>\n",
       "    <tr>\n",
       "      <th>2</th>\n",
       "      <td>9606</td>\n",
       "      <td>3</td>\n",
       "      <td>A2MP1</td>\n",
       "      <td>-</td>\n",
       "      <td>A2MP</td>\n",
       "      <td>HGNC:HGNC:8|Ensembl:ENSG00000256069</td>\n",
       "      <td>12</td>\n",
       "      <td>12p13.31</td>\n",
       "      <td>alpha-2-macroglobulin pseudogene 1</td>\n",
       "      <td>pseudo</td>\n",
       "      <td>A2MP1</td>\n",
       "      <td>alpha-2-macroglobulin pseudogene 1</td>\n",
       "      <td>O</td>\n",
       "      <td>pregnancy-zone protein pseudogene</td>\n",
       "      <td>20150317</td>\n",
       "    </tr>\n",
       "    <tr>\n",
       "      <th>3</th>\n",
       "      <td>9606</td>\n",
       "      <td>9</td>\n",
       "      <td>NAT1</td>\n",
       "      <td>-</td>\n",
       "      <td>AAC1|MNAT|NAT-1|NATI</td>\n",
       "      <td>MIM:108345|HGNC:HGNC:7645|Ensembl:ENSG00000171...</td>\n",
       "      <td>8</td>\n",
       "      <td>8p22</td>\n",
       "      <td>N-acetyltransferase 1 (arylamine N-acetyltrans...</td>\n",
       "      <td>protein-coding</td>\n",
       "      <td>NAT1</td>\n",
       "      <td>N-acetyltransferase 1 (arylamine N-acetyltrans...</td>\n",
       "      <td>O</td>\n",
       "      <td>N-acetyltransferase type 1|arylamide acetylase...</td>\n",
       "      <td>20150412</td>\n",
       "    </tr>\n",
       "    <tr>\n",
       "      <th>4</th>\n",
       "      <td>9606</td>\n",
       "      <td>10</td>\n",
       "      <td>NAT2</td>\n",
       "      <td>-</td>\n",
       "      <td>AAC2|NAT-2|PNAT</td>\n",
       "      <td>MIM:612182|HGNC:HGNC:7646|Ensembl:ENSG00000156...</td>\n",
       "      <td>8</td>\n",
       "      <td>8p22</td>\n",
       "      <td>N-acetyltransferase 2 (arylamine N-acetyltrans...</td>\n",
       "      <td>protein-coding</td>\n",
       "      <td>NAT2</td>\n",
       "      <td>N-acetyltransferase 2 (arylamine N-acetyltrans...</td>\n",
       "      <td>O</td>\n",
       "      <td>N-acetyltransferase type 2|arylamide acetylase...</td>\n",
       "      <td>20150419</td>\n",
       "    </tr>\n",
       "  </tbody>\n",
       "</table>\n",
       "</div>"
      ],
      "text/plain": [
       "   tax_id  GeneID Symbol LocusTag                   Synonyms  \\\n",
       "0    9606       1   A1BG        -       A1B|ABG|GAB|HYST2477   \n",
       "1    9606       2    A2M        -  A2MD|CPAMD5|FWP007|S863-7   \n",
       "2    9606       3  A2MP1        -                       A2MP   \n",
       "3    9606       9   NAT1        -       AAC1|MNAT|NAT-1|NATI   \n",
       "4    9606      10   NAT2        -            AAC2|NAT-2|PNAT   \n",
       "\n",
       "                                             dbXrefs chromosome map_location  \\\n",
       "0  MIM:138670|HGNC:HGNC:5|Ensembl:ENSG00000121410...         19      19q13.4   \n",
       "1  MIM:103950|HGNC:HGNC:7|Ensembl:ENSG00000175899...         12     12p13.31   \n",
       "2                HGNC:HGNC:8|Ensembl:ENSG00000256069         12     12p13.31   \n",
       "3  MIM:108345|HGNC:HGNC:7645|Ensembl:ENSG00000171...          8         8p22   \n",
       "4  MIM:612182|HGNC:HGNC:7646|Ensembl:ENSG00000156...          8         8p22   \n",
       "\n",
       "                                         description    type_of_gene  \\\n",
       "0                             alpha-1-B glycoprotein  protein-coding   \n",
       "1                              alpha-2-macroglobulin  protein-coding   \n",
       "2                 alpha-2-macroglobulin pseudogene 1          pseudo   \n",
       "3  N-acetyltransferase 1 (arylamine N-acetyltrans...  protein-coding   \n",
       "4  N-acetyltransferase 2 (arylamine N-acetyltrans...  protein-coding   \n",
       "\n",
       "  Symbol_from_nomenclature_authority  \\\n",
       "0                               A1BG   \n",
       "1                                A2M   \n",
       "2                              A2MP1   \n",
       "3                               NAT1   \n",
       "4                               NAT2   \n",
       "\n",
       "               Full_name_from_nomenclature_authority Nomenclature_status  \\\n",
       "0                             alpha-1-B glycoprotein                   O   \n",
       "1                              alpha-2-macroglobulin                   O   \n",
       "2                 alpha-2-macroglobulin pseudogene 1                   O   \n",
       "3  N-acetyltransferase 1 (arylamine N-acetyltrans...                   O   \n",
       "4  N-acetyltransferase 2 (arylamine N-acetyltrans...                   O   \n",
       "\n",
       "                                  Other_designations  Modification_date  \n",
       "0  HEL-S-163pA|alpha-1B-glycoprotein|epididymis s...           20150405  \n",
       "1  C3 and PZP-like alpha-2-macroglobulin domain-c...           20150412  \n",
       "2                  pregnancy-zone protein pseudogene           20150317  \n",
       "3  N-acetyltransferase type 1|arylamide acetylase...           20150412  \n",
       "4  N-acetyltransferase type 2|arylamide acetylase...           20150419  "
      ]
     },
     "execution_count": 12,
     "metadata": {},
     "output_type": "execute_result"
    }
   ],
   "source": [
    "fieldnames = ['tax_id', 'GeneID', 'Symbol', 'LocusTag', 'Synonyms',\n",
    "    'dbXrefs', 'chromosome', 'map_location', 'description',\n",
    "    'type_of_gene', 'Symbol_from_nomenclature_authority',\n",
    "    'Full_name_from_nomenclature_authority', 'Nomenclature_status',\n",
    "    'Other_designations', 'Modification_date']\n",
    "\n",
    "path = os.path.join('download', 'Homo_sapiens.gene_info.gz')\n",
    "gene_df = pandas.read_table(path, compression='gzip', comment='#', names = fieldnames)\n",
    "gene_df[:5]"
   ]
  },
  {
   "cell_type": "code",
   "execution_count": 13,
   "metadata": {
    "collapsed": false
   },
   "outputs": [
    {
     "data": {
      "text/html": [
       "<div style=\"max-height:1000px;max-width:1500px;overflow:auto;\">\n",
       "<table border=\"1\" class=\"dataframe\">\n",
       "  <thead>\n",
       "    <tr style=\"text-align: right;\">\n",
       "      <th></th>\n",
       "      <th>GeneID</th>\n",
       "      <th>Symbol</th>\n",
       "    </tr>\n",
       "  </thead>\n",
       "  <tbody>\n",
       "    <tr>\n",
       "      <th>0</th>\n",
       "      <td>1</td>\n",
       "      <td>A1BG</td>\n",
       "    </tr>\n",
       "    <tr>\n",
       "      <th>1</th>\n",
       "      <td>2</td>\n",
       "      <td>A2M</td>\n",
       "    </tr>\n",
       "    <tr>\n",
       "      <th>2</th>\n",
       "      <td>3</td>\n",
       "      <td>A2MP1</td>\n",
       "    </tr>\n",
       "    <tr>\n",
       "      <th>3</th>\n",
       "      <td>9</td>\n",
       "      <td>NAT1</td>\n",
       "    </tr>\n",
       "    <tr>\n",
       "      <th>4</th>\n",
       "      <td>10</td>\n",
       "      <td>NAT2</td>\n",
       "    </tr>\n",
       "  </tbody>\n",
       "</table>\n",
       "</div>"
      ],
      "text/plain": [
       "   GeneID Symbol\n",
       "0       1   A1BG\n",
       "1       2    A2M\n",
       "2       3  A2MP1\n",
       "3       9   NAT1\n",
       "4      10   NAT2"
      ]
     },
     "execution_count": 13,
     "metadata": {},
     "output_type": "execute_result"
    }
   ],
   "source": [
    "symbol_df = gene_df[['GeneID', 'Symbol']]\n",
    "path = os.path.join('data', 'symbols-human.tsv')\n",
    "symbol_df.to_csv(path, sep='\\t', index=False)\n",
    "symbol_df[:5]"
   ]
  },
  {
   "cell_type": "code",
   "execution_count": null,
   "metadata": {
    "collapsed": true
   },
   "outputs": [],
   "source": []
  }
 ],
 "metadata": {
  "kernelspec": {
   "display_name": "Python 3",
   "language": "python",
   "name": "python3"
  },
  "language_info": {
   "codemirror_mode": {
    "name": "ipython",
    "version": 3
   },
   "file_extension": ".py",
   "mimetype": "text/x-python",
   "name": "python",
   "nbconvert_exporter": "python",
   "pygments_lexer": "ipython3",
   "version": "3.4.0"
  }
 },
 "nbformat": 4,
 "nbformat_minor": 0
}
